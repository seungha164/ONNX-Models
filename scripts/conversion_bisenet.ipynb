{
 "cells": [
  {
   "cell_type": "code",
   "execution_count": 1,
   "metadata": {},
   "outputs": [],
   "source": [
    "import cv2\n",
    "import yaml\n",
    "import os\n",
    "import numpy as np\n",
    "from matplotlib import pyplot as plt\n",
    "\n",
    "import torch\n",
    "from torch.nn import functional as F\n",
    "\n",
    "import onnx\n",
    "import onnxruntime\n",
    "from onnxruntime.quantization import QuantType\n",
    "from onnxruntime.quantization.quantize import quantize_dynamic"
   ]
  },
  {
   "cell_type": "markdown",
   "metadata": {},
   "source": [
    "#### 모델 로딩\n",
    "1. BISENet v1 로딩"
   ]
  },
  {
   "cell_type": "code",
   "execution_count": 2,
   "metadata": {},
   "outputs": [],
   "source": [
    "CONVERSION_REGISTRY = {\n",
    "    'v1_ade20k' : {'weight' : \"./weights/model_final_v1_ade20k.pth\", 'cfg' : \"./configs/bisenetv1_ade20k.py\"},\n",
    "    'v1_city' : {'weight' : \"./weights/model_final_v1_city_new.pth\", 'cfg' : \"./configs/bisenetv1_city.py\"},\n",
    "    'v1_coco' : {'weight' : \"./weights/model_final_v1_coco_new.pth\", 'cfg' : \"./configs/bisenetv1_coco.py\"},\n",
    "    'v2_ade20k' : {'weight' : \"./weights/model_final_v2_ade20k.pth\", 'cfg' : \"./configs/bisenetv2_ade20k.py\"},\n",
    "    'v2_city' : {'weight' : \"./weights/model_final_v2_city.pth\", 'cfg' : \"./configs/bisenetv2_city.py\"},\n",
    "    'v2_coco' : {'weight' : \"./weights/model_final_v2_coco.pth\", 'cfg' : \"./configs/bisenetv2_coco.py\"},\n",
    "}"
   ]
  },
  {
   "cell_type": "code",
   "execution_count": 3,
   "metadata": {},
   "outputs": [],
   "source": [
    "from configs import set_cfg_from_file\n",
    "from lib.models import model_factory\n",
    "\n",
    "def model_conversion(model_path, config_path, dummy_inputs, onnx_model_path):\n",
    "\n",
    "    cfg = set_cfg_from_file(config_path)\n",
    "    \n",
    "    # define model\n",
    "    net = model_factory[cfg.model_type](cfg.n_cats, 'onnx')\n",
    "    net.load_state_dict(torch.load(model_path), strict = False)\n",
    "    net.cuda()\n",
    "    net.eval()\n",
    "\n",
    "    print('모델 로딩 완')\n",
    "\n",
    "    # onnx conversion\n",
    "    torch.onnx.export(\n",
    "        model=net,                            # 실행될 모델\n",
    "        args = tuple(dummy_inputs.values()),        # 모델 입력값(tuple or 여러 입력값)\n",
    "        f = onnx_model_path,                     # 모델 저장 경로\n",
    "        export_params=True,                 # 모델 파일 안에 학습된 모델 가중치 저장 여부\n",
    "        opset_version=13,                   # 모델 변환할 때 사용할 onnx 버전\n",
    "        do_constant_folding = True,         # 최적화시 상수폴딩 사용할지 여부\n",
    "        input_names=list(dummy_inputs.keys()),\n",
    "        output_names    =   [\"output\"],\n",
    "        dynamic_axes    =   {\n",
    "            'input'     : {0 : 'batch_size'},    # 가변적인 길이를 가진 차원\n",
    "            'output'    : {0 : 'batch_size'}\n",
    "        }\n",
    "    ) "
   ]
  },
  {
   "cell_type": "code",
   "execution_count": 4,
   "metadata": {},
   "outputs": [
    {
     "name": "stdout",
     "output_type": "stream",
     "text": [
      "[v1] ade20k -> ./onnx_models/bisenet_v1_ade20k.onnx\n",
      "모델 로딩 완\n"
     ]
    },
    {
     "name": "stderr",
     "output_type": "stream",
     "text": [
      "WARNING:root:Please consider to run pre-processing before quantization. Refer to example: https://github.com/microsoft/onnxruntime-inference-examples/blob/main/quantization/image_classification/cpu/ReadMe.md \n"
     ]
    },
    {
     "name": "stdout",
     "output_type": "stream",
     "text": [
      "[v1] city -> ./onnx_models/bisenet_v1_city.onnx\n",
      "모델 로딩 완\n"
     ]
    },
    {
     "name": "stderr",
     "output_type": "stream",
     "text": [
      "WARNING:root:Please consider to run pre-processing before quantization. Refer to example: https://github.com/microsoft/onnxruntime-inference-examples/blob/main/quantization/image_classification/cpu/ReadMe.md \n"
     ]
    },
    {
     "name": "stdout",
     "output_type": "stream",
     "text": [
      "[v1] coco -> ./onnx_models/bisenet_v1_coco.onnx\n",
      "모델 로딩 완\n"
     ]
    },
    {
     "name": "stderr",
     "output_type": "stream",
     "text": [
      "WARNING:root:Please consider to run pre-processing before quantization. Refer to example: https://github.com/microsoft/onnxruntime-inference-examples/blob/main/quantization/image_classification/cpu/ReadMe.md \n"
     ]
    },
    {
     "name": "stdout",
     "output_type": "stream",
     "text": [
      "[v2] ade20k -> ./onnx_models/bisenet_v2_ade20k.onnx\n",
      "모델 로딩 완\n"
     ]
    },
    {
     "name": "stderr",
     "output_type": "stream",
     "text": [
      "WARNING:root:Please consider to run pre-processing before quantization. Refer to example: https://github.com/microsoft/onnxruntime-inference-examples/blob/main/quantization/image_classification/cpu/ReadMe.md \n"
     ]
    },
    {
     "name": "stdout",
     "output_type": "stream",
     "text": [
      "[v2] city -> ./onnx_models/bisenet_v2_city.onnx\n",
      "모델 로딩 완\n"
     ]
    },
    {
     "name": "stderr",
     "output_type": "stream",
     "text": [
      "WARNING:root:Please consider to run pre-processing before quantization. Refer to example: https://github.com/microsoft/onnxruntime-inference-examples/blob/main/quantization/image_classification/cpu/ReadMe.md \n"
     ]
    },
    {
     "name": "stdout",
     "output_type": "stream",
     "text": [
      "[v2] coco -> ./onnx_models/bisenet_v2_coco.onnx\n",
      "모델 로딩 완\n"
     ]
    },
    {
     "name": "stderr",
     "output_type": "stream",
     "text": [
      "WARNING:root:Please consider to run pre-processing before quantization. Refer to example: https://github.com/microsoft/onnxruntime-inference-examples/blob/main/quantization/image_classification/cpu/ReadMe.md \n"
     ]
    }
   ],
   "source": [
    "# onnx 모델 저장 경로\n",
    "os.makedirs('./onnx_models/', exist_ok=True)\n",
    "device    = torch.device('cuda')\n",
    "dummy_inputs = {\n",
    "    \"input\" : torch.as_tensor(np.ones([1, 3, 512, 512]), dtype = torch.float32).to(device)\n",
    "}\n",
    "\n",
    "for modelN in CONVERSION_REGISTRY.keys():\n",
    "    v1, ds = modelN.split('_')\n",
    "    data = CONVERSION_REGISTRY[modelN]\n",
    "\n",
    "    # model 변환\n",
    "    onnx_model_path = f'./onnx_models/bisenet_{v1}_{ds}.onnx'\n",
    "    onnx_model_quantized_path = f'./onnx_models/bisenet_{v1}_{ds}_quant.onnx'\n",
    "\n",
    "    #model_conversion\n",
    "    print(f'[{v1}] {ds} -> {onnx_model_path}')\n",
    "    model_conversion(data['weight'], data['cfg'], dummy_inputs, onnx_model_path)\n",
    "\n",
    "    # model quantization\n",
    "    quantize_dynamic(\n",
    "    model_input=onnx_model_path,\n",
    "    model_output=onnx_model_quantized_path,\n",
    "    #optimize_model=True,\n",
    "    per_channel=False,\n",
    "    reduce_range=False,\n",
    "    weight_type=QuantType.QUInt8,\n",
    ")"
   ]
  },
  {
   "cell_type": "markdown",
   "metadata": {},
   "source": [
    "#### ONNX-Runtime Test"
   ]
  },
  {
   "cell_type": "code",
   "execution_count": 31,
   "metadata": {},
   "outputs": [
    {
     "data": {
      "text/plain": [
       "(1, 3, 512, 512)"
      ]
     },
     "execution_count": 31,
     "metadata": {},
     "output_type": "execute_result"
    }
   ],
   "source": [
    "import lib.data.transform_cv2 as T\n",
    "import math\n",
    "\n",
    "# prepare data\n",
    "to_tensor = T.ToTensor(\n",
    "    mean=(0.3257, 0.3690, 0.3223), # city, rgb\n",
    "    std=(0.2112, 0.2148, 0.2115),\n",
    ")\n",
    "im = cv2.imread('./moana.jpg')[:, :, ::-1]\n",
    "im = to_tensor(dict(im=im, lb=None))['im'].unsqueeze(0).cuda()\n",
    "\n",
    "# shape divisor\n",
    "org_size = im.size()[2:]\n",
    "new_size = [512, 512]\n",
    "\n",
    "im = F.interpolate(im, size=new_size, align_corners=False, mode='bilinear')\n",
    "image_embedding = im.detach().cpu().numpy()\n",
    "image_embedding.shape\n"
   ]
  },
  {
   "cell_type": "code",
   "execution_count": 35,
   "metadata": {},
   "outputs": [
    {
     "name": "stdout",
     "output_type": "stream",
     "text": [
      "(512, 512, 3)\n"
     ]
    },
    {
     "data": {
      "image/png": "[encoded data removed]",
      "text/plain": [
       "<Figure size 640x480 with 1 Axes>"
      ]
     },
     "metadata": {},
     "output_type": "display_data"
    }
   ],
   "source": [
    "# loading\n",
    "ort_session = onnxruntime.InferenceSession('./onnx_models/bisenet_v1_coco.onnx', providers=['AzureExecutionProvider'])\n",
    "\n",
    "# test running\n",
    "ort_inputs  = {ort_session.get_inputs()[0].name : image_embedding}\n",
    "ort_outputs = ort_session.run(None, ort_inputs)\n",
    "\n",
    "# show & save result\n",
    "print(ort_outputs[0].shape)\n",
    "plt.imshow(ort_outputs[0])\n",
    "plt.savefig('./result.png')"
   ]
  }
 ],
 "metadata": {
  "kernelspec": {
   "display_name": "base",
   "language": "python",
   "name": "python3"
  },
  "language_info": {
   "codemirror_mode": {
    "name": "ipython",
    "version": 3
   },
   "file_extension": ".py",
   "mimetype": "text/x-python",
   "name": "python",
   "nbconvert_exporter": "python",
   "pygments_lexer": "ipython3",
   "version": "3.10.13"
  }
 },
 "nbformat": 4,
 "nbformat_minor": 2
}
