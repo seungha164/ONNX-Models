{
 "cells": [
  {
   "cell_type": "code",
   "execution_count": 2,
   "metadata": {},
   "outputs": [
    {
     "name": "stderr",
     "output_type": "stream",
     "text": [
      "/opt/conda/lib/python3.10/site-packages/tqdm/auto.py:21: TqdmWarning: IProgress not found. Please update jupyter and ipywidgets. See https://ipywidgets.readthedocs.io/en/stable/user_install.html\n",
      "  from .autonotebook import tqdm as notebook_tqdm\n"
     ]
    },
    {
     "data": {
      "text/plain": [
       "0"
      ]
     },
     "execution_count": 2,
     "metadata": {},
     "output_type": "execute_result"
    }
   ],
   "source": [
    "import torch\n",
    "import torch.nn as nn\n",
    "from diffusers.schedulers import PNDMScheduler\n",
    "from pathlib import Path\n",
    "from diffusers import DiffusionPipeline\n",
    "from util import onnx_export\n",
    "from onnxruntime.quantization.quantize import quantize_dynamic\n",
    "from onnxruntime.quantization import QuantType\n",
    "import gc\n",
    "gc.collect()"
   ]
  },
  {
   "cell_type": "code",
   "execution_count": 3,
   "metadata": {},
   "outputs": [],
   "source": [
    "device = \"cpu\"\n",
    "dtype = torch.float32\n",
    "\n",
    "pipeline = DiffusionPipeline.from_pretrained(\"runwayml/stable-diffusion-v1-5\", torch_dtype=torch.float32)"
   ]
  },
  {
   "cell_type": "markdown",
   "metadata": {},
   "source": [
    "---"
   ]
  },
  {
   "cell_type": "markdown",
   "metadata": {},
   "source": [
    "#### Text Embedding"
   ]
  },
  {
   "cell_type": "code",
   "execution_count": 3,
   "metadata": {},
   "outputs": [],
   "source": [
    "class TextEmbedding(nn.Module):\n",
    "    def __init__(self, tokenizer, textencoder, device='cpu'):\n",
    "        super().__init__()\n",
    "        self.tokenizer = tokenizer\n",
    "        self.text_encoder = textencoder.to(device = device)\n",
    "        self.device = device\n",
    "       \n",
    "    def forward(self, text_ids):\n",
    "        # uncond-input 준비\n",
    "        uncond_input = self.tokenizer(\n",
    "            [\"\"],\n",
    "            padding=\"max_length\",\n",
    "            max_length=pipeline.tokenizer.model_max_length,\n",
    "            truncation=True,\n",
    "            return_tensors=\"pt\",\n",
    "        ).input_ids\n",
    "        # 인코딩 \n",
    "        textembed               = self.text_encoder(text_ids.to(device=self.device, dtype=torch.int32)).last_hidden_state\n",
    "        negative_prompt_embeds  = self.text_encoder(uncond_input.to(device=self.device, dtype=torch.int32)).last_hidden_state\n",
    "        \n",
    "        prompt_embeds = torch.cat([negative_prompt_embeds, textembed])\n",
    "        return prompt_embeds"
   ]
  },
  {
   "cell_type": "code",
   "execution_count": 3,
   "metadata": {},
   "outputs": [
    {
     "ename": "NameError",
     "evalue": "name 'TextEmbedding' is not defined",
     "output_type": "error",
     "traceback": [
      "\u001b[0;31m---------------------------------------------------------------------------\u001b[0m",
      "\u001b[0;31mNameError\u001b[0m                                 Traceback (most recent call last)",
      "Cell \u001b[0;32mIn[3], line 10\u001b[0m\n\u001b[1;32m      1\u001b[0m text_input \u001b[38;5;241m=\u001b[39m pipeline\u001b[38;5;241m.\u001b[39mtokenizer(\n\u001b[1;32m      2\u001b[0m     [\u001b[38;5;124m\"\u001b[39m\u001b[38;5;124mA smile Tiger\u001b[39m\u001b[38;5;124m\"\u001b[39m],\n\u001b[1;32m      3\u001b[0m     padding\u001b[38;5;241m=\u001b[39m\u001b[38;5;124m\"\u001b[39m\u001b[38;5;124mmax_length\u001b[39m\u001b[38;5;124m\"\u001b[39m,\n\u001b[0;32m   (...)\u001b[0m\n\u001b[1;32m      6\u001b[0m     return_tensors\u001b[38;5;241m=\u001b[39m\u001b[38;5;124m\"\u001b[39m\u001b[38;5;124mpt\u001b[39m\u001b[38;5;124m\"\u001b[39m,\n\u001b[1;32m      7\u001b[0m     )\u001b[38;5;241m.\u001b[39minput_ids\u001b[38;5;241m.\u001b[39mto(device\u001b[38;5;241m=\u001b[39mdevice, dtype\u001b[38;5;241m=\u001b[39mtorch\u001b[38;5;241m.\u001b[39mint32)\n\u001b[1;32m      9\u001b[0m onnx_export(\n\u001b[0;32m---> 10\u001b[0m     \u001b[43mTextEmbedding\u001b[49m(pipeline\u001b[38;5;241m.\u001b[39mtokenizer, pipeline\u001b[38;5;241m.\u001b[39mtext_encoder, device),\n\u001b[1;32m     11\u001b[0m     model_args\u001b[38;5;241m=\u001b[39m(\n\u001b[1;32m     12\u001b[0m         text_input\n\u001b[1;32m     13\u001b[0m     ),\n\u001b[1;32m     14\u001b[0m     output_path \u001b[38;5;241m=\u001b[39m Path(\u001b[38;5;124m'\u001b[39m\u001b[38;5;124m../onnx-models/TextEmbedding.onnx\u001b[39m\u001b[38;5;124m'\u001b[39m),\n\u001b[1;32m     15\u001b[0m     ordered_input_names\u001b[38;5;241m=\u001b[39m[\u001b[38;5;124m\"\u001b[39m\u001b[38;5;124mprompt\u001b[39m\u001b[38;5;124m\"\u001b[39m],\n\u001b[1;32m     16\u001b[0m     output_names\u001b[38;5;241m=\u001b[39m[\u001b[38;5;124m\"\u001b[39m\u001b[38;5;124mout_sample\u001b[39m\u001b[38;5;124m\"\u001b[39m],  \u001b[38;5;66;03m# has to be different from \"sample\" for correct tracing\u001b[39;00m\n\u001b[1;32m     17\u001b[0m     dynamic_axes\u001b[38;5;241m=\u001b[39m{\n\u001b[1;32m     18\u001b[0m         \u001b[38;5;124m\"\u001b[39m\u001b[38;5;124mprompt\u001b[39m\u001b[38;5;124m\"\u001b[39m: {\u001b[38;5;241m0\u001b[39m: \u001b[38;5;124m\"\u001b[39m\u001b[38;5;124mbatch\u001b[39m\u001b[38;5;124m\"\u001b[39m, \u001b[38;5;241m1\u001b[39m: \u001b[38;5;124m\"\u001b[39m\u001b[38;5;124msequence\u001b[39m\u001b[38;5;124m\"\u001b[39m},\n\u001b[1;32m     19\u001b[0m     },\n\u001b[1;32m     20\u001b[0m     opset\u001b[38;5;241m=\u001b[39m\u001b[38;5;241m14\u001b[39m,\n\u001b[1;32m     21\u001b[0m     use_external_data_format\u001b[38;5;241m=\u001b[39m\u001b[38;5;28;01mTrue\u001b[39;00m,  \u001b[38;5;66;03m# UNet is > 2GB, so the weights need to be split\u001b[39;00m\n\u001b[1;32m     22\u001b[0m )\n",
      "\u001b[0;31mNameError\u001b[0m: name 'TextEmbedding' is not defined"
     ]
    }
   ],
   "source": [
    "text_input = pipeline.tokenizer(\n",
    "    [\"A smile Tiger\"],\n",
    "    padding=\"max_length\",\n",
    "    max_length=pipeline.tokenizer.model_max_length,\n",
    "    truncation=True,\n",
    "    return_tensors=\"pt\",\n",
    "    ).input_ids.to(device=device, dtype=torch.int32)\n",
    "\n",
    "onnx_export(\n",
    "    TextEmbedding(pipeline.tokenizer, pipeline.text_encoder, device),\n",
    "    model_args=(\n",
    "        text_input\n",
    "    ),\n",
    "    output_path = Path('../onnx-models/TextEmbedding.onnx'),\n",
    "    ordered_input_names=[\"prompt\"],\n",
    "    output_names=[\"out_sample\"],  # has to be different from \"sample\" for correct tracing\n",
    "    dynamic_axes={\n",
    "        \"prompt\": {0: \"batch\", 1: \"sequence\"},\n",
    "    },\n",
    "    opset=14,\n",
    "    use_external_data_format=True,  # UNet is > 2GB, so the weights need to be split\n",
    ")"
   ]
  },
  {
   "cell_type": "markdown",
   "metadata": {},
   "source": [
    "- test용 Text Encoder"
   ]
  },
  {
   "cell_type": "code",
   "execution_count": 4,
   "metadata": {},
   "outputs": [],
   "source": [
    "class TextEmbedding_test(nn.Module):\n",
    "    def __init__(self, tokenizer, textencoder, device='cpu'):\n",
    "        super().__init__()\n",
    "        self.tokenizer = tokenizer\n",
    "        self.text_encoder = textencoder.to(device = device)\n",
    "        self.device = device\n",
    "       \n",
    "    def forward(self, text_ids):\n",
    "        text_ids = self.tokenizer(\n",
    "            [\"a smile cat\"],\n",
    "            padding=\"max_length\",\n",
    "            max_length=pipeline.tokenizer.model_max_length,\n",
    "            truncation=True,\n",
    "            return_tensors=\"pt\",\n",
    "        ).input_ids\n",
    "        # uncond-input 준비\n",
    "        uncond_input = self.tokenizer(\n",
    "            [\"\"],\n",
    "            padding=\"max_length\",\n",
    "            max_length=pipeline.tokenizer.model_max_length,\n",
    "            truncation=True,\n",
    "            return_tensors=\"pt\",\n",
    "        ).input_ids\n",
    "        # 인코딩 \n",
    "        textembed               = self.text_encoder(text_ids.to(device=self.device, dtype=torch.int32)).last_hidden_state\n",
    "        negative_prompt_embeds  = self.text_encoder(uncond_input.to(device=self.device, dtype=torch.int32)).last_hidden_state\n",
    "        \n",
    "        prompt_embeds = torch.cat([negative_prompt_embeds, textembed])\n",
    "        return prompt_embeds"
   ]
  },
  {
   "cell_type": "code",
   "execution_count": 8,
   "metadata": {},
   "outputs": [
    {
     "name": "stdout",
     "output_type": "stream",
     "text": [
      "ONNX export Start🚗\n",
      "ONNX export Finish🍷\n"
     ]
    },
    {
     "name": "stderr",
     "output_type": "stream",
     "text": [
      "WARNING:root:Please consider to run pre-processing before quantization. Refer to example: https://github.com/microsoft/onnxruntime-inference-examples/blob/main/quantization/image_classification/cpu/ReadMe.md \n"
     ]
    }
   ],
   "source": [
    "onnx_export(\n",
    "    TextEmbedding_test(pipeline.tokenizer, pipeline.text_encoder, 'cpu'),\n",
    "    model_args=(\n",
    "        torch.zeros([1, 77])\n",
    "    ),\n",
    "    output_path = Path('../onnx-models/TextEmbedding-test.onnx'),\n",
    "    ordered_input_names=[\"prompt\"],\n",
    "    output_names=[\"out_sample\"],  # has to be different from \"sample\" for correct tracing\n",
    "    dynamic_axes={\n",
    "        \"prompt\": {0: \"batch\", 1: \"sequence\"},\n",
    "    },\n",
    "    opset=12,\n",
    "    use_external_data_format=True,  # UNet is > 2GB, so the weights need to be split\n",
    ")\n",
    "quantize_dynamic(\n",
    "    model_input = f'../onnx-models/TextEmbedding-test.onnx',\n",
    "    model_output=f'../onnx-models/TextEmbedding-test-quant.onnx',\n",
    "    per_channel=False,\n",
    "    reduce_range=False,\n",
    "    weight_type=QuantType.QUInt8,\n",
    ")"
   ]
  },
  {
   "cell_type": "code",
   "execution_count": 10,
   "metadata": {},
   "outputs": [
    {
     "data": {
      "text/plain": [
       "[]"
      ]
     },
     "execution_count": 10,
     "metadata": {},
     "output_type": "execute_result"
    }
   ],
   "source": [
    "import onnxruntime\n",
    "import numpy as np\n",
    "\n",
    "unetSession = onnxruntime.InferenceSession(f'../onnx-models/TextEmbedding-test-quant.onnx', providers=['AzureExecutionProvider'])\n",
    "[i.name for i in unetSession.get_inputs()]"
   ]
  }
 ],
 "metadata": {
  "kernelspec": {
   "display_name": "base",
   "language": "python",
   "name": "python3"
  },
  "language_info": {
   "codemirror_mode": {
    "name": "ipython",
    "version": 3
   },
   "file_extension": ".py",
   "mimetype": "text/x-python",
   "name": "python",
   "nbconvert_exporter": "python",
   "pygments_lexer": "ipython3",
   "version": "3.10.13"
  }
 },
 "nbformat": 4,
 "nbformat_minor": 2
}
