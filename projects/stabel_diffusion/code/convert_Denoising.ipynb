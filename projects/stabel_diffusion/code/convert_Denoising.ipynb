{
 "cells": [
  {
   "cell_type": "code",
   "execution_count": 2,
   "metadata": {},
   "outputs": [
    {
     "data": {
      "text/plain": [
       "0"
      ]
     },
     "execution_count": 2,
     "metadata": {},
     "output_type": "execute_result"
    }
   ],
   "source": [
    "import torch\n",
    "import torch.nn as nn\n",
    "from diffusers.schedulers import PNDMScheduler\n",
    "from pathlib import Path\n",
    "from diffusers import DiffusionPipeline\n",
    "from util import onnx_export\n",
    "\n",
    "import gc\n",
    "gc.collect()"
   ]
  },
  {
   "cell_type": "code",
   "execution_count": 3,
   "metadata": {},
   "outputs": [],
   "source": [
    "device = \"cpu\"\n",
    "dtype = torch.float32\n",
    "\n",
    "pipeline = DiffusionPipeline.from_pretrained(\"runwayml/stable-diffusion-v1-5\", torch_dtype=torch.float32)"
   ]
  },
  {
   "cell_type": "markdown",
   "metadata": {},
   "source": [
    "---"
   ]
  },
  {
   "cell_type": "markdown",
   "metadata": {},
   "source": [
    "## UNet"
   ]
  },
  {
   "cell_type": "code",
   "execution_count": 14,
   "metadata": {},
   "outputs": [],
   "source": [
    "class UnetModel(nn.Module):\n",
    "    def __init__(self, unet, device):\n",
    "        super().__init__()\n",
    "        self.unet = unet\n",
    "        self.unet = self.unet.to(device = device)\n",
    "    \n",
    "    def forward(self, latents, prompt_embeds, timestep):\n",
    "        latents = torch.cat([latents] * 2).to(prompt_embeds.device)       # [2, 4, 64, 64]\n",
    "        # predict the noise residual\n",
    "        noise_pred = self.unet(\n",
    "            latents,\n",
    "            timestep,\n",
    "            encoder_hidden_states=prompt_embeds,\n",
    "            cross_attention_kwargs=None,\n",
    "            return_dict=False,\n",
    "        )[0]\n",
    "        # perform guidance \n",
    "        noise_pred_uncond, noise_pred_text = noise_pred.chunk(2)\n",
    "        noise_pred = noise_pred_uncond + 7.5 * (noise_pred_text - noise_pred_uncond)\n",
    "\n",
    "        return noise_pred"
   ]
  },
  {
   "cell_type": "code",
   "execution_count": 13,
   "metadata": {},
   "outputs": [
    {
     "name": "stdout",
     "output_type": "stream",
     "text": [
      "ONNX export Start🚗\n"
     ]
    },
    {
     "name": "stderr",
     "output_type": "stream",
     "text": [
      "/opt/conda/lib/python3.10/site-packages/torch/onnx/utils.py:2036: UserWarning: Provided key noise_pred for dynamic axes is not a valid input/output name\n",
      "  warnings.warn(\n",
      "/opt/conda/lib/python3.10/site-packages/torch/onnx/_internal/jit_utils.py:258: UserWarning: The shape inference of prim::Constant type is missing, so it may result in wrong shape inference for the exported graph. Please consider adding it in symbolic function. (Triggered internally at ../torch/csrc/jit/passes/onnx/shape_type_inference.cpp:1884.)\n",
      "  _C._jit_pass_onnx_node_shape_type_inference(node, params_dict, opset_version)\n",
      "/opt/conda/lib/python3.10/site-packages/torch/onnx/utils.py:687: UserWarning: The shape inference of prim::Constant type is missing, so it may result in wrong shape inference for the exported graph. Please consider adding it in symbolic function. (Triggered internally at ../torch/csrc/jit/passes/onnx/shape_type_inference.cpp:1884.)\n",
      "  _C._jit_pass_onnx_graph_shape_type_inference(\n",
      "/opt/conda/lib/python3.10/site-packages/torch/onnx/utils.py:1178: UserWarning: The shape inference of prim::Constant type is missing, so it may result in wrong shape inference for the exported graph. Please consider adding it in symbolic function. (Triggered internally at ../torch/csrc/jit/passes/onnx/shape_type_inference.cpp:1884.)\n",
      "  _C._jit_pass_onnx_graph_shape_type_inference(\n"
     ]
    },
    {
     "name": "stdout",
     "output_type": "stream",
     "text": [
      "ONNX export Finish🍷\n"
     ]
    }
   ],
   "source": [
    "onnx_export(\n",
    "    UnetModel(pipeline.unet, device),\n",
    "    model_args=(\n",
    "        torch.randn([1,4,64,64]).to(device=device, dtype=dtype),\n",
    "        torch.randn([2,4,768]).to(device=device, dtype=dtype),\n",
    "        torch.tensor(981),\n",
    "    ),\n",
    "    output_path = Path('../onnx-models/UNet/model.onnx'),\n",
    "    ordered_input_names=[\"latents\", \"prompt_embeds\", \"timestep\"],\n",
    "    output_names=[\"prev_cur_latents\"],  # has to be different from \"sample\" for correct tracing\n",
    "    dynamic_axes={ \n",
    "        \"noise_pred\": {0: \"batch\"},\n",
    "        \"prompt_embeds\": {0: \"batch\"},\n",
    "    },\n",
    "    opset=14,\n",
    "    use_external_data_format=True,  # UNet is > 2GB, so the weights need to be split\n",
    ")"
   ]
  },
  {
   "cell_type": "markdown",
   "metadata": {},
   "source": [
    "---\n",
    "## Scheduler"
   ]
  },
  {
   "cell_type": "markdown",
   "metadata": {},
   "source": [
    "t = 981"
   ]
  },
  {
   "cell_type": "code",
   "execution_count": 16,
   "metadata": {},
   "outputs": [
    {
     "name": "stdout",
     "output_type": "stream",
     "text": [
      "ONNX export Start🚗\n",
      "ONNX export Finish🍷\n"
     ]
    }
   ],
   "source": [
    "class Scheduler_step981(nn.Module):\n",
    "    def __init__(self, scheduler, device):\n",
    "        super().__init__()\n",
    "        self.scheduler = scheduler\n",
    "        self.scheduler.set_timesteps(50, device=device)\n",
    "        self.alphas_cumprod = scheduler.alphas_cumprod\n",
    "        self.final_alpha_cumprod = scheduler.final_alpha_cumprod\n",
    "\n",
    "    def _get_prev_sample(self, sample, timestep, prev_timestep, model_output):\n",
    "        alpha_prod_t = self.alphas_cumprod[timestep]\n",
    "        alpha_prod_t_prev = self.alphas_cumprod[prev_timestep] if prev_timestep >= 0 else self.final_alpha_cumprod\n",
    "        beta_prod_t = 1 - alpha_prod_t\n",
    "        beta_prod_t_prev = 1 - alpha_prod_t_prev\n",
    "\n",
    "        sample_coeff = (alpha_prod_t_prev / alpha_prod_t) ** (0.5)\n",
    "        # corresponds to denominator of e_θ(x_t, t) in formula (9)\n",
    "        model_output_denom_coeff = alpha_prod_t * beta_prod_t_prev ** (0.5) + (\n",
    "            alpha_prod_t * beta_prod_t * alpha_prod_t_prev\n",
    "        ) ** (0.5)\n",
    "        # full formula (9)\n",
    "        prev_sample = (\n",
    "            sample_coeff * sample - (alpha_prod_t_prev - alpha_prod_t) * model_output / model_output_denom_coeff\n",
    "        )\n",
    "        return prev_sample\n",
    "\n",
    "    def forward(self, noise_pred, latents):\n",
    "        cur_sample = latents\n",
    "        prev_sample = self._get_prev_sample(latents, 981, 961, noise_pred)\n",
    "        latents = torch.concat([prev_sample, cur_sample], dim=0)\n",
    "        return latents\n",
    "\n",
    "onnx_export(\n",
    "    Scheduler_step981(pipeline.scheduler, device),\n",
    "    model_args=(\n",
    "        torch.randn([1,4,64,64]).to(device=device, dtype=dtype),\n",
    "        torch.randn([1,4,64,64]).to(device=device, dtype=dtype),\n",
    "    ),\n",
    "    output_path = Path(f'../onnx-models/Schedulers/step-{981}.onnx'),\n",
    "    ordered_input_names=[\"noise_pred\", \"latents\"],\n",
    "    output_names=[\"prev_cur_latents\"],  # has to be different from \"sample\" for correct tracing\n",
    "    dynamic_axes={ \n",
    "        \"noise_pred\": {0: \"batch\"}\n",
    "    },\n",
    "    opset=14,\n",
    "    use_external_data_format=True,  # UNet is > 2GB, so the weights need to be split\n",
    ")"
   ]
  }
 ],
 "metadata": {
  "kernelspec": {
   "display_name": "base",
   "language": "python",
   "name": "python3"
  },
  "language_info": {
   "codemirror_mode": {
    "name": "ipython",
    "version": 3
   },
   "file_extension": ".py",
   "mimetype": "text/x-python",
   "name": "python",
   "nbconvert_exporter": "python",
   "pygments_lexer": "ipython3",
   "version": "3.10.13"
  }
 },
 "nbformat": 4,
 "nbformat_minor": 2
}
