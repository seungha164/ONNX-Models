{
 "cells": [
  {
   "cell_type": "code",
   "execution_count": 6,
   "metadata": {},
   "outputs": [
    {
     "data": {
      "text/plain": [
       "2082"
      ]
     },
     "execution_count": 6,
     "metadata": {},
     "output_type": "execute_result"
    }
   ],
   "source": [
    "import torch\n",
    "import torch.nn as nn\n",
    "from diffusers.schedulers import PNDMScheduler\n",
    "from pathlib import Path\n",
    "from diffusers import DiffusionPipeline\n",
    "from util import onnx_export\n",
    "from onnxruntime.quantization.quantize import quantize_dynamic\n",
    "from onnxruntime.quantization import QuantType\n",
    "import os \n",
    "import gc\n",
    "gc.collect()"
   ]
  },
  {
   "cell_type": "code",
   "execution_count": 2,
   "metadata": {},
   "outputs": [],
   "source": [
    "device = \"cpu\"\n",
    "dtype = torch.float32\n",
    "\n",
    "pipeline = DiffusionPipeline.from_pretrained(\"runwayml/stable-diffusion-v1-5\", torch_dtype=torch.float32)"
   ]
  },
  {
   "cell_type": "markdown",
   "metadata": {},
   "source": [
    "---\n",
    "## Scheduler"
   ]
  },
  {
   "cell_type": "code",
   "execution_count": 3,
   "metadata": {},
   "outputs": [],
   "source": [
    "def onnx_conver_NN_quant(model, KEY):\n",
    "    onnx_export(\n",
    "        model,\n",
    "        model_args=(\n",
    "            torch.randn([1,4,64,64]).to(device=device, dtype=dtype),\n",
    "            torch.randn([1,4,64,64]).to(device=device, dtype=dtype),\n",
    "            torch.randn([1,4,64,64]).to(device=device, dtype=dtype),    # e2\n",
    "            torch.randn([1,4,64,64]).to(device=device, dtype=dtype),     # e3\n",
    "            torch.randn([1,4,64,64]).to(device=device, dtype=dtype)     # e4  \n",
    "        ),\n",
    "        output_path = Path(f'../onnx-models/Schedulers/step-{KEY}.onnx'),\n",
    "        ordered_input_names=[\"noise_pred\", \"latents\", \"ets1\", \"ets2\", \"ets3\"],\n",
    "        output_names=[\"prev_cur_latents\"],  # has to be different from \"sample\" for correct tracing\n",
    "        dynamic_axes={ \n",
    "            \"ets\": {0: \"batch\"}\n",
    "        },\n",
    "        opset=14,\n",
    "        use_external_data_format=True,  # UNet is > 2GB, so the weights need to be split\n",
    "    )\n",
    "    quantize_dynamic(\n",
    "        model_input = f'../onnx-models/Schedulers/step-{KEY}.onnx',\n",
    "        model_output=f'../onnx-models/Schedulers-quant/step-{KEY}.onnx',\n",
    "        per_channel=False,\n",
    "        reduce_range=False,\n",
    "        weight_type=QuantType.QUInt8,\n",
    "    )"
   ]
  },
  {
   "cell_type": "markdown",
   "metadata": {},
   "source": [
    "`t` = 981"
   ]
  },
  {
   "cell_type": "code",
   "execution_count": 9,
   "metadata": {},
   "outputs": [
    {
     "name": "stderr",
     "output_type": "stream",
     "text": [
      "WARNING:root:Please consider to run pre-processing before quantization. Refer to example: https://github.com/microsoft/onnxruntime-inference-examples/blob/main/quantization/image_classification/cpu/ReadMe.md \n"
     ]
    },
    {
     "name": "stdout",
     "output_type": "stream",
     "text": [
      "ONNX export Start🚗\n",
      "ONNX export Finish🍷\n"
     ]
    }
   ],
   "source": [
    "class Scheduler_step981(nn.Module):\n",
    "    def __init__(self, scheduler, device):\n",
    "        super().__init__()\n",
    "        self.scheduler = scheduler\n",
    "        self.scheduler.set_timesteps(50, device=device)\n",
    "        self.alphas_cumprod = scheduler.alphas_cumprod\n",
    "        self.final_alpha_cumprod = scheduler.final_alpha_cumprod\n",
    "\n",
    "    def _get_prev_sample(self, sample, timestep, prev_timestep, model_output):\n",
    "        alpha_prod_t = self.alphas_cumprod[timestep]\n",
    "        alpha_prod_t_prev = self.alphas_cumprod[prev_timestep] if prev_timestep >= 0 else self.final_alpha_cumprod\n",
    "        beta_prod_t = 1 - alpha_prod_t\n",
    "        beta_prod_t_prev = 1 - alpha_prod_t_prev\n",
    "\n",
    "        sample_coeff = (alpha_prod_t_prev / alpha_prod_t) ** (0.5)\n",
    "        # corresponds to denominator of e_θ(x_t, t) in formula (9)\n",
    "        model_output_denom_coeff = alpha_prod_t * beta_prod_t_prev ** (0.5) + (\n",
    "            alpha_prod_t * beta_prod_t * alpha_prod_t_prev\n",
    "        ) ** (0.5)\n",
    "        # full formula (9)\n",
    "        prev_sample = (\n",
    "            sample_coeff * sample - (alpha_prod_t_prev - alpha_prod_t) * model_output / model_output_denom_coeff\n",
    "        )\n",
    "        return prev_sample\n",
    "\n",
    "    def forward(self, noise_pred, latents):\n",
    "        cur_sample = latents\n",
    "        prev_sample = self._get_prev_sample(latents, 981, 961, noise_pred)\n",
    "        return prev_sample, cur_sample\n",
    "\n",
    "os.makedirs(f'../onnx-models/Schedulers_t/', exist_ok=True)\n",
    "os.makedirs(f'../onnx-models/Schedulers-quant/', exist_ok=True)\n",
    "\n",
    "KEY = 981\n",
    "onnx_export(\n",
    "    Scheduler_step981(pipeline.scheduler, device),\n",
    "    model_args=(\n",
    "        torch.randn([1,4,64,64]).to(device=device, dtype=dtype),\n",
    "        torch.randn([1,4,64,64]).to(device=device, dtype=dtype),\n",
    "    ),\n",
    "    output_path = Path(f'../onnx-models/Schedulers_t/step-{KEY}.onnx'),\n",
    "    ordered_input_names=[\"noise_pred\", \"latents\"],\n",
    "    output_names=[\"prev_cur_latents\", \"cur_sample\"],  # has to be different from \"sample\" for correct tracing\n",
    "    dynamic_axes={ \n",
    "        \"noise_pred\": {0: \"batch\"}\n",
    "    },\n",
    "    opset=14,\n",
    "    use_external_data_format=True,  # UNet is > 2GB, so the weights need to be split\n",
    ")\n",
    "quantize_dynamic(\n",
    "    model_input=f'../onnx-models/Schedulers_t/step-{KEY}.onnx',\n",
    "    model_output=f'../onnx-models/Schedulers-quant/step-{KEY}.onnx',\n",
    "    per_channel=False,\n",
    "    reduce_range=False,\n",
    "    weight_type=QuantType.QUInt8,\n",
    ")"
   ]
  },
  {
   "cell_type": "markdown",
   "metadata": {},
   "source": [
    "`t` = 961"
   ]
  },
  {
   "cell_type": "code",
   "execution_count": 10,
   "metadata": {},
   "outputs": [
    {
     "name": "stderr",
     "output_type": "stream",
     "text": [
      "WARNING:root:Please consider to run pre-processing before quantization. Refer to example: https://github.com/microsoft/onnxruntime-inference-examples/blob/main/quantization/image_classification/cpu/ReadMe.md \n",
      "WARNING:root:Please consider to run pre-processing before quantization. Refer to example: https://github.com/microsoft/onnxruntime-inference-examples/blob/main/quantization/image_classification/cpu/ReadMe.md \n"
     ]
    },
    {
     "name": "stdout",
     "output_type": "stream",
     "text": [
      "ONNX export Start🚗\n",
      "ONNX export Finish🍷\n",
      "ONNX export Start🚗\n",
      "ONNX export Finish🍷\n"
     ]
    }
   ],
   "source": [
    "class Scheduler_step961_1(nn.Module):\n",
    "    def __init__(self, scheduler, device):\n",
    "        super().__init__()\n",
    "        self.scheduler = scheduler\n",
    "        self.scheduler.set_timesteps(50, device=device)\n",
    "        self.alphas_cumprod = scheduler.alphas_cumprod\n",
    "        self.final_alpha_cumprod = scheduler.final_alpha_cumprod\n",
    "\n",
    "    def _get_prev_sample(self, sample, timestep, prev_timestep, model_output):\n",
    "        alpha_prod_t = self.alphas_cumprod[timestep]\n",
    "        alpha_prod_t_prev = self.alphas_cumprod[prev_timestep] if prev_timestep >= 0 else self.final_alpha_cumprod\n",
    "        beta_prod_t = 1 - alpha_prod_t\n",
    "        beta_prod_t_prev = 1 - alpha_prod_t_prev\n",
    "\n",
    "        sample_coeff = (alpha_prod_t_prev / alpha_prod_t) ** (0.5)\n",
    "        # corresponds to denominator of e_θ(x_t, t) in formula (9)\n",
    "        model_output_denom_coeff = alpha_prod_t * beta_prod_t_prev ** (0.5) + (\n",
    "            alpha_prod_t * beta_prod_t * alpha_prod_t_prev\n",
    "        ) ** (0.5)\n",
    "        # full formula (9)\n",
    "        prev_sample = (\n",
    "            sample_coeff * sample - (alpha_prod_t_prev - alpha_prod_t) * model_output / model_output_denom_coeff\n",
    "        )\n",
    "        return prev_sample    \n",
    "\n",
    "    def forward(self, noise_pred, cur_sample, ets):\n",
    "        model_output = (noise_pred + ets) / 2\n",
    "        prev_sample = self._get_prev_sample(cur_sample, 981, 961, model_output)\n",
    "        return prev_sample\n",
    "\n",
    "\n",
    "class Scheduler_step961_2(nn.Module):\n",
    "    def __init__(self, scheduler, device):\n",
    "        super().__init__()\n",
    "        self.scheduler = scheduler\n",
    "        self.scheduler.set_timesteps(50, device=device)\n",
    "        self.alphas_cumprod = scheduler.alphas_cumprod\n",
    "        self.final_alpha_cumprod = scheduler.final_alpha_cumprod\n",
    "\n",
    "    def _get_prev_sample(self, sample, timestep, prev_timestep, model_output):\n",
    "        #print(timestep, int(timestep), self.alphas_cumprod.shape)\n",
    "        #timestep_int = int(timestep)\n",
    "        alpha_prod_t = self.alphas_cumprod[timestep]\n",
    "        #alpha_prod_t = alpha_prod_t * 1.0\n",
    "        #kk = self.alphas_cumprod[int(timestep)]\n",
    "        \n",
    "        if prev_timestep >= 0:\n",
    "            alpha_prod_t_prev = self.alphas_cumprod[prev_timestep]\n",
    "        else:\n",
    "            alpha_prod_t_prev = self.final_alpha_cumprod\n",
    "        \n",
    "        beta_prod_t = 1 - alpha_prod_t\n",
    "        beta_prod_t_prev = 1 - alpha_prod_t_prev\n",
    "\n",
    "        sample_coeff = (alpha_prod_t_prev / alpha_prod_t) ** (0.5)\n",
    "        # corresponds to denominator of e_θ(x_t, t) in formula (9)\n",
    "        model_output_denom_coeff = alpha_prod_t * beta_prod_t_prev ** (0.5) + (\n",
    "            alpha_prod_t * beta_prod_t * alpha_prod_t_prev\n",
    "        ) ** (0.5)\n",
    "        # full formula (9)\n",
    "        prev_sample = (\n",
    "            sample_coeff * sample - (alpha_prod_t_prev - alpha_prod_t) * model_output / model_output_denom_coeff\n",
    "        )\n",
    "\n",
    "        return prev_sample * (alpha_prod_t // alpha_prod_t)\n",
    "\n",
    "    def forward(self, noise_pred, sample, ets):\n",
    "        #prev_sample = self.step_plms(noise_pred, 961, sample, ets_list)\n",
    "        model_output = (3 * noise_pred - ets) / 2\n",
    "        prev_sample = self._get_prev_sample(sample, 961, 941, model_output)\n",
    "        return prev_sample\n",
    "\n",
    "# --------------------------------------\n",
    "def onnx_conver_N_quant(model, key):\n",
    "    onnx_export(\n",
    "        model,\n",
    "        model_args=(\n",
    "                torch.randn([1,4,64,64]).to(device=device, dtype=dtype),\n",
    "                torch.randn([1,4,64,64]).to(device=device, dtype=dtype),\n",
    "                torch.randn([1,4,64,64]).to(device=device, dtype=dtype),\n",
    "        ),\n",
    "        output_path = Path(f'../onnx-models/Schedulers_t/step-{key}.onnx'),\n",
    "        ordered_input_names=[\"noise_pred\", \"sample\", \"ets\"],\n",
    "        output_names=[\"prev_cur_latents\"],  # has to be different from \"sample\" for correct tracing\n",
    "        dynamic_axes={ \n",
    "                \"noise_pred\": {0: \"batch\"},\n",
    "                \"sample\": {0: \"batch\"},\n",
    "                \"ets\": {0: \"batch\"}\n",
    "        },\n",
    "        opset=14,\n",
    "        use_external_data_format=True,  # UNet is > 2GB, so the weights need to be split\n",
    "    )\n",
    "    quantize_dynamic(\n",
    "        model_input=f'../onnx-models/Schedulers_t/step-{key}.onnx',\n",
    "        model_output=f'../onnx-models/Schedulers-quant/step-{key}.onnx',\n",
    "        per_channel=False,\n",
    "        reduce_range=False,\n",
    "        weight_type=QuantType.QUInt8,\n",
    "    )\n",
    "\n",
    "onnx_conver_N_quant(Scheduler_step961_1(pipeline.scheduler, device), '961_1')\n",
    "onnx_conver_N_quant(Scheduler_step961_1(pipeline.scheduler, device), '961_2')"
   ]
  },
  {
   "cell_type": "markdown",
   "metadata": {},
   "source": [
    "`t` = 941"
   ]
  },
  {
   "cell_type": "code",
   "execution_count": 3,
   "metadata": {},
   "outputs": [
    {
     "name": "stderr",
     "output_type": "stream",
     "text": [
      "WARNING:root:Please consider to run pre-processing before quantization. Refer to example: https://github.com/microsoft/onnxruntime-inference-examples/blob/main/quantization/image_classification/cpu/ReadMe.md \n"
     ]
    },
    {
     "name": "stdout",
     "output_type": "stream",
     "text": [
      "ONNX export Start🚗\n",
      "ONNX export Finish🍷\n"
     ]
    }
   ],
   "source": [
    "class Scheduler_step941(nn.Module):\n",
    "    def __init__(self, scheduler, device):\n",
    "        super().__init__()\n",
    "        self.scheduler = scheduler\n",
    "        self.scheduler.set_timesteps(50, device=device)\n",
    "        self.alphas_cumprod = scheduler.alphas_cumprod\n",
    "        self.final_alpha_cumprod = scheduler.final_alpha_cumprod\n",
    "\n",
    "    def _get_prev_sample(self, sample, timestep, prev_timestep, model_output):\n",
    "        #print(timestep, int(timestep), self.alphas_cumprod.shape)\n",
    "        #timestep_int = int(timestep)\n",
    "        alpha_prod_t = self.alphas_cumprod[timestep]\n",
    "        #alpha_prod_t = alpha_prod_t * 1.0\n",
    "        #kk = self.alphas_cumprod[int(timestep)]\n",
    "        \n",
    "        if prev_timestep >= 0:\n",
    "            alpha_prod_t_prev = self.alphas_cumprod[prev_timestep]\n",
    "        else:\n",
    "            alpha_prod_t_prev = self.final_alpha_cumprod\n",
    "        \n",
    "        beta_prod_t = 1 - alpha_prod_t\n",
    "        beta_prod_t_prev = 1 - alpha_prod_t_prev\n",
    "\n",
    "        sample_coeff = (alpha_prod_t_prev / alpha_prod_t) ** (0.5)\n",
    "        # corresponds to denominator of e_θ(x_t, t) in formula (9)\n",
    "        model_output_denom_coeff = alpha_prod_t * beta_prod_t_prev ** (0.5) + (\n",
    "            alpha_prod_t * beta_prod_t * alpha_prod_t_prev\n",
    "        ) ** (0.5)\n",
    "        # full formula (9)\n",
    "        prev_sample = (\n",
    "            sample_coeff * sample - (alpha_prod_t_prev - alpha_prod_t) * model_output / model_output_denom_coeff\n",
    "        )\n",
    "\n",
    "        return prev_sample * (alpha_prod_t // alpha_prod_t)\n",
    "\n",
    "    def forward(self, noise_pred, sample, ets2, ets3):\n",
    "        model_output = (23 * noise_pred - 16 * ets2 + 5 * ets3) / 12\n",
    "        prev_sample = self._get_prev_sample(sample, 941, 921, model_output)\n",
    "        return prev_sample\n",
    "\n",
    "onnx_export(\n",
    "    Scheduler_step941(pipeline.scheduler, device),\n",
    "    model_args=(\n",
    "        torch.randn([1,4,64,64]).to(device=device, dtype=dtype),\n",
    "        torch.randn([1,4,64,64]).to(device=device, dtype=dtype),\n",
    "        torch.randn([1,4,64,64]).to(device=device, dtype=dtype),    # ets1\n",
    "        torch.randn([1,4,64,64]).to(device=device, dtype=dtype)     # ets2\n",
    "    ),\n",
    "    output_path = Path(f'../onnx-models/Schedulers_t/step-{941}.onnx'),\n",
    "    ordered_input_names=[\"noise_pred\", \"sample\", \"ets1\", \"ets2\"],\n",
    "    output_names=[\"prev_cur_latents\"],  # has to be different from \"sample\" for correct tracing\n",
    "    dynamic_axes={ \n",
    "        \"noise_pred\": {0: \"batch\"}\n",
    "    },\n",
    "    opset=14,\n",
    "    use_external_data_format=True,  # UNet is > 2GB, so the weights need to be split\n",
    ")\n",
    "quantize_dynamic(\n",
    "    model_input=f'../onnx-models/Schedulers_t/step-{941}.onnx',\n",
    "    model_output=f'../onnx-models/Schedulers-quant/step-{941}.onnx',\n",
    "    per_channel=False,\n",
    "    reduce_range=False,\n",
    "    weight_type=QuantType.QUInt8,\n",
    ")"
   ]
  },
  {
   "cell_type": "code",
   "execution_count": 8,
   "metadata": {},
   "outputs": [
    {
     "name": "stdout",
     "output_type": "stream",
     "text": [
      "noise_pred\n",
      "sample\n",
      "ets1\n",
      "ets2\n"
     ]
    }
   ],
   "source": [
    "import onnxruntime\n",
    "ort_de = onnxruntime.InferenceSession(f'../onnx-models/Schedulers-quant/step-{941}.onnx')\n",
    "\n",
    "for i in ort_de.get_inputs():\n",
    "    print(i.name)"
   ]
  },
  {
   "cell_type": "markdown",
   "metadata": {},
   "source": [
    "`t` = N; 921 ~ 1"
   ]
  },
  {
   "cell_type": "code",
   "execution_count": 59,
   "metadata": {},
   "outputs": [
    {
     "name": "stderr",
     "output_type": "stream",
     "text": [
      "WARNING:root:Please consider to run pre-processing before quantization. Refer to example: https://github.com/microsoft/onnxruntime-inference-examples/blob/main/quantization/image_classification/cpu/ReadMe.md \n"
     ]
    },
    {
     "name": "stdout",
     "output_type": "stream",
     "text": [
      "ONNX export Start🚗\n",
      "ONNX export Finish🍷\n"
     ]
    }
   ],
   "source": [
    "class Scheduler_stepNN(nn.Module):\n",
    "    def __init__(self, scheduler, device):\n",
    "        super().__init__()\n",
    "        self.scheduler = scheduler\n",
    "        self.scheduler.set_timesteps(50, device=device)\n",
    "        self.alphas_cumprod = scheduler.alphas_cumprod\n",
    "        self.final_alpha_cumprod = scheduler.final_alpha_cumprod\n",
    "\n",
    "    def _get_prev_sample(self, sample, timestep, prev_timestep, model_output):\n",
    "        #print(timestep, int(timestep), self.alphas_cumprod.shape)\n",
    "        #timestep_int = int(timestep)\n",
    "        alpha_prod_t = self.alphas_cumprod[timestep]\n",
    "        #alpha_prod_t = alpha_prod_t * 1.0\n",
    "        #kk = self.alphas_cumprod[int(timestep)]\n",
    "        \n",
    "        if prev_timestep >= 0:\n",
    "            alpha_prod_t_prev = self.alphas_cumprod[prev_timestep]\n",
    "        else:\n",
    "            alpha_prod_t_prev = self.final_alpha_cumprod\n",
    "        \n",
    "        beta_prod_t = 1 - alpha_prod_t\n",
    "        beta_prod_t_prev = 1 - alpha_prod_t_prev\n",
    "\n",
    "        sample_coeff = (alpha_prod_t_prev / alpha_prod_t) ** (0.5)\n",
    "        # corresponds to denominator of e_θ(x_t, t) in formula (9)\n",
    "        model_output_denom_coeff = alpha_prod_t * beta_prod_t_prev ** (0.5) + (\n",
    "            alpha_prod_t * beta_prod_t * alpha_prod_t_prev\n",
    "        ) ** (0.5)\n",
    "        # full formula (9)\n",
    "        prev_sample = (\n",
    "            sample_coeff * sample - (alpha_prod_t_prev - alpha_prod_t) * model_output / model_output_denom_coeff\n",
    "        )\n",
    "\n",
    "        return prev_sample * (alpha_prod_t // alpha_prod_t)\n",
    "\n",
    "    def forward(self, noise_pred, sample, ets2, ets3, ets4):\n",
    "        model_output = (1 / 24) * (55 * noise_pred - 59 * ets2 + 37 * ets3 - 9 * ets4)\n",
    "        prev_sample = self._get_prev_sample(sample, KEY, KEY - 20, model_output)\n",
    "        return prev_sample\n",
    " \n",
    "KEY = 881\n",
    "# --------------------------------------\n",
    "onnx_conver_NN_quant(Scheduler_stepNN(pipeline.scheduler, device), KEY)"
   ]
  },
  {
   "cell_type": "markdown",
   "metadata": {},
   "source": [
    "리스트형으로 stack을 쌓는게 앱에서는 안되기 때문에,\n",
    "- ets가 없는 경우,\n",
    "- ets에 이미 1개 저장 (t=961_2)\n",
    "- etst에 이미 2개 저장 (t=941)\n",
    "- ets에 이미 3개 저장 (t=921 ~ 1)\n",
    "이 경우에 입력 값을 각각 받도록 하는게 낫다고 생각함"
   ]
  }
 ],
 "metadata": {
  "kernelspec": {
   "display_name": "base",
   "language": "python",
   "name": "python3"
  },
  "language_info": {
   "codemirror_mode": {
    "name": "ipython",
    "version": 3
   },
   "file_extension": ".py",
   "mimetype": "text/x-python",
   "name": "python",
   "nbconvert_exporter": "python",
   "pygments_lexer": "ipython3",
   "version": "3.10.13"
  }
 },
 "nbformat": 4,
 "nbformat_minor": 2
}
