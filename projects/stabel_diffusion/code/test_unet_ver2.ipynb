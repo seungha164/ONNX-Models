{
 "cells": [
  {
   "cell_type": "code",
   "execution_count": 1,
   "metadata": {},
   "outputs": [
    {
     "name": "stderr",
     "output_type": "stream",
     "text": [
      "/opt/conda/lib/python3.10/site-packages/tqdm/auto.py:21: TqdmWarning: IProgress not found. Please update jupyter and ipywidgets. See https://ipywidgets.readthedocs.io/en/stable/user_install.html\n",
      "  from .autonotebook import tqdm as notebook_tqdm\n"
     ]
    },
    {
     "data": {
      "text/plain": [
       "0"
      ]
     },
     "execution_count": 1,
     "metadata": {},
     "output_type": "execute_result"
    }
   ],
   "source": [
    "import torch\n",
    "import torch.nn as nn\n",
    "from diffusers.schedulers import PNDMScheduler\n",
    "from pathlib import Path\n",
    "from diffusers import DiffusionPipeline\n",
    "from util import onnx_export\n",
    "from onnxruntime.quantization.quantize import quantize_dynamic\n",
    "from onnxruntime.quantization import QuantType\n",
    "import onnx \n",
    "from diffusers.utils import BaseOutput\n",
    "import gc\n",
    "from dataclasses import dataclass\n",
    "from typing import Any, Dict, List, Optional, Tuple, Union\n",
    "\n",
    "gc.collect()"
   ]
  },
  {
   "cell_type": "code",
   "execution_count": 2,
   "metadata": {},
   "outputs": [],
   "source": [
    "device = \"cpu\"\n",
    "dtype = torch.float32\n",
    "\n",
    "pipeline = DiffusionPipeline.from_pretrained(\"runwayml/stable-diffusion-v1-5\", torch_dtype=torch.float32)"
   ]
  },
  {
   "cell_type": "markdown",
   "metadata": {},
   "source": [
    "---"
   ]
  },
  {
   "cell_type": "code",
   "execution_count": 3,
   "metadata": {},
   "outputs": [],
   "source": [
    "class TextEmbedding(nn.Module):\n",
    "    def __init__(self, tokenizer, textencoder, device='cpu'):\n",
    "        super().__init__()\n",
    "        self.tokenizer = tokenizer\n",
    "        self.text_encoder = textencoder.to(device = device)\n",
    "        self.device = device\n",
    "       \n",
    "    def forward(self, text_ids):\n",
    "        # uncond-input 준비\n",
    "        uncond_input = self.tokenizer(\n",
    "            [\"\"],\n",
    "            padding=\"max_length\",\n",
    "            max_length=pipeline.tokenizer.model_max_length,\n",
    "            truncation=True,\n",
    "            return_tensors=\"pt\",\n",
    "        ).input_ids\n",
    "        # 인코딩 \n",
    "        textembed               = self.text_encoder(text_ids.to(device=self.device, dtype=torch.int32)).last_hidden_state\n",
    "        negative_prompt_embeds  = self.text_encoder(uncond_input.to(device=self.device, dtype=torch.int32)).last_hidden_state\n",
    "        \n",
    "        prompt_embeds = torch.cat([negative_prompt_embeds, textembed])\n",
    "        return prompt_embeds\n",
    "text_input = pipeline.tokenizer(\n",
    "    [\"A smile Tiger\"],\n",
    "    padding=\"max_length\",\n",
    "    max_length=pipeline.tokenizer.model_max_length,\n",
    "    truncation=True,\n",
    "    return_tensors=\"pt\",\n",
    "    ).input_ids.to(device=device, dtype=torch.int32)\n",
    "te = TextEmbedding(pipeline.tokenizer, pipeline.text_encoder, device)"
   ]
  },
  {
   "cell_type": "code",
   "execution_count": 4,
   "metadata": {},
   "outputs": [
    {
     "data": {
      "text/plain": [
       "['sample', 'timestep', 'encoder_hidden_states']"
      ]
     },
     "execution_count": 4,
     "metadata": {},
     "output_type": "execute_result"
    }
   ],
   "source": [
    "import onnxruntime\n",
    "import numpy as np\n",
    "\n",
    "sess_down = onnxruntime.InferenceSession('../onnx-models/UNet-ver2/down.onnx', providers=['AzureExecutionProvider'])\n",
    "# sess_mid = onnxruntime.InferenceSession('../onnx-models/UNet-ver2/unet2dconditionalmodel_mid.onnx', providers=['AzureExecutionProvider'])\n",
    "[i.name for i in sess_down.get_inputs()]"
   ]
  },
  {
   "cell_type": "code",
   "execution_count": 5,
   "metadata": {},
   "outputs": [
    {
     "data": {
      "text/plain": [
       "['sample', 'emb', 'encoder_hidden_states']"
      ]
     },
     "execution_count": 5,
     "metadata": {},
     "output_type": "execute_result"
    }
   ],
   "source": [
    "sess_mid = onnxruntime.InferenceSession('../onnx-models/UNet-ver2/unet2dconditionalmodel_mid.onnx', providers=['AzureExecutionProvider'])\n",
    "[i.name for i in sess_mid.get_inputs()]"
   ]
  },
  {
   "cell_type": "code",
   "execution_count": 6,
   "metadata": {},
   "outputs": [
    {
     "data": {
      "text/plain": [
       "['sample', 'emb', 'res_samples0', 'res_samples1', 'res_samples2']"
      ]
     },
     "execution_count": 6,
     "metadata": {},
     "output_type": "execute_result"
    }
   ],
   "source": [
    "sess_up0 = onnxruntime.InferenceSession('../onnx-models/UNet-ver2/unet2dconditionalmodel_up_0/model.onnx', providers=['AzureExecutionProvider'])\n",
    "sess_up1 = onnxruntime.InferenceSession('../onnx-models/UNet-ver2/unet2dconditionalmodel_up_1/model.onnx', providers=['AzureExecutionProvider'])\n",
    "sess_up2 = onnxruntime.InferenceSession('../onnx-models/UNet-ver2/unet2dconditionalmodel_up_2/model.onnx', providers=['AzureExecutionProvider'])\n",
    "[i.name for i in sess_up0.get_inputs()]"
   ]
  },
  {
   "cell_type": "code",
   "execution_count": 7,
   "metadata": {},
   "outputs": [
    {
     "data": {
      "text/plain": [
       "(['sample', 'emb', 'encoder_hidden_states', 'res_samples0'],\n",
       " ['sample', 'emb', 'encoder_hidden_states', 'res_samples0'])"
      ]
     },
     "execution_count": 7,
     "metadata": {},
     "output_type": "execute_result"
    }
   ],
   "source": [
    "sess_up3_0 = onnxruntime.InferenceSession('../onnx-models/UNet-ver2/unet2dconditionalmodel_up_3_0/model.onnx', providers=['AzureExecutionProvider'])\n",
    "sess_up3_1 = onnxruntime.InferenceSession('../onnx-models/UNet-ver2/unet2dconditionalmodel_up_3_1/model.onnx', providers=['AzureExecutionProvider'])\n",
    "sess_up3_2 = onnxruntime.InferenceSession('../onnx-models/UNet-ver2/unet2dconditionalmodel_up_3_2/model.onnx', providers=['AzureExecutionProvider'])\n",
    "[i.name for i in sess_up3_0.get_inputs()], [i.name for i in sess_up3_2.get_inputs()]"
   ]
  },
  {
   "cell_type": "code",
   "execution_count": 8,
   "metadata": {},
   "outputs": [
    {
     "data": {
      "text/plain": [
       "['sample']"
      ]
     },
     "execution_count": 8,
     "metadata": {},
     "output_type": "execute_result"
    }
   ],
   "source": [
    "\n",
    "sess_post = onnxruntime.InferenceSession('../onnx-models/UNet-ver2/UNet_post_process/model.onnx', providers=['AzureExecutionProvider'])\n",
    "[i.name for i in sess_post.get_inputs()]"
   ]
  },
  {
   "cell_type": "markdown",
   "metadata": {},
   "source": [
    "---"
   ]
  },
  {
   "cell_type": "code",
   "execution_count": 9,
   "metadata": {},
   "outputs": [
    {
     "data": {
      "text/plain": [
       "(torch.Size([2, 4, 64, 64]), torch.Size([1]), torch.Size([2, 77, 768]))"
      ]
     },
     "execution_count": 9,
     "metadata": {},
     "output_type": "execute_result"
    }
   ],
   "source": [
    "# input 준비\n",
    "input_sample = torch.randn([2,4,64,64]).to(device=device, dtype=dtype)\n",
    "input_timestemp = torch.tensor([961]).to(device=device, dtype=dtype)\n",
    "input_text_embed = te(text_input)\n",
    "input_sample.shape, input_timestemp.shape, input_text_embed.shape"
   ]
  },
  {
   "cell_type": "markdown",
   "metadata": {},
   "source": [
    "- Down"
   ]
  },
  {
   "cell_type": "code",
   "execution_count": 10,
   "metadata": {},
   "outputs": [],
   "source": [
    "outputs = sess_down.run(None, {\n",
    "    sess_down.get_inputs()[0].name: input_sample.detach().numpy(),\n",
    "    sess_down.get_inputs()[1].name: input_timestemp.detach().numpy(),\n",
    "    sess_down.get_inputs()[2].name: input_text_embed.detach().numpy()\n",
    "})\n",
    "sample, emb, down_block_res_samples = outputs[0], outputs[1], outputs[2:]"
   ]
  },
  {
   "cell_type": "markdown",
   "metadata": {},
   "source": [
    "- Mid"
   ]
  },
  {
   "cell_type": "code",
   "execution_count": 11,
   "metadata": {},
   "outputs": [],
   "source": [
    "outputs = sess_mid.run(None, {\n",
    "    sess_mid.get_inputs()[0].name: sample,\n",
    "    sess_mid.get_inputs()[1].name: emb,\n",
    "    sess_mid.get_inputs()[2].name: input_text_embed.detach().numpy()\n",
    "})\n",
    "sample = outputs[0]"
   ]
  },
  {
   "cell_type": "markdown",
   "metadata": {},
   "source": [
    "- Up"
   ]
  },
  {
   "cell_type": "code",
   "execution_count": 12,
   "metadata": {},
   "outputs": [
    {
     "name": "stdout",
     "output_type": "stream",
     "text": [
      ">  (2, 1280, 8, 8)\n",
      "(2, 1280, 16, 16)\n",
      "(2, 1280, 32, 32)\n",
      "(2, 640, 64, 64)\n"
     ]
    }
   ],
   "source": [
    "sessUpList = [sess_up0, sess_up1, sess_up2]\n",
    "print('> ', sample.shape)\n",
    "for i in range(3):\n",
    "    res_samples = down_block_res_samples[-3 :]\n",
    "    down_block_res_samples = down_block_res_samples[: -3]\n",
    "    if i == 0:\n",
    "        outputs = sessUpList[i].run(None, {\n",
    "            sessUpList[i].get_inputs()[0].name: sample,\n",
    "            sessUpList[i].get_inputs()[1].name: emb,\n",
    "            sessUpList[i].get_inputs()[2].name: res_samples[0],\n",
    "            sessUpList[i].get_inputs()[3].name: res_samples[1],\n",
    "            sessUpList[i].get_inputs()[4].name: res_samples[2],\n",
    "        })\n",
    "        sample = outputs[0]\n",
    "        print(sample.shape)\n",
    "    else:\n",
    "        outputs = sessUpList[i].run(None, {\n",
    "            sessUpList[i].get_inputs()[0].name: sample,\n",
    "            sessUpList[i].get_inputs()[1].name: emb,\n",
    "            sessUpList[i].get_inputs()[2].name: input_text_embed.detach().numpy(),\n",
    "            sessUpList[i].get_inputs()[3].name: res_samples[0],\n",
    "            sessUpList[i].get_inputs()[4].name: res_samples[1],\n",
    "            sessUpList[i].get_inputs()[5].name: res_samples[2],\n",
    "        })\n",
    "        sample = outputs[0]\n",
    "        print(sample.shape)"
   ]
  },
  {
   "cell_type": "code",
   "execution_count": 13,
   "metadata": {},
   "outputs": [
    {
     "data": {
      "text/plain": [
       "(2, 640, 32, 32)"
      ]
     },
     "execution_count": 13,
     "metadata": {},
     "output_type": "execute_result"
    }
   ],
   "source": [
    "res_samples[-1].shape"
   ]
  },
  {
   "cell_type": "markdown",
   "metadata": {},
   "source": []
  },
  {
   "cell_type": "code",
   "execution_count": 14,
   "metadata": {},
   "outputs": [],
   "source": [
    "up_3_list = [sess_up3_0, sess_up3_1, sess_up3_2]\n",
    "for i in range(3):\n",
    "    outputs = up_3_list[i].run(None, {\n",
    "        up_3_list[i].get_inputs()[0].name: sample,\n",
    "        up_3_list[i].get_inputs()[1].name: emb,\n",
    "        up_3_list[i].get_inputs()[2].name: input_text_embed.detach().numpy(),\n",
    "        up_3_list[i].get_inputs()[3].name: down_block_res_samples[-(i+1)],\n",
    "    })\n",
    "    sample = outputs[0]"
   ]
  },
  {
   "cell_type": "code",
   "execution_count": 15,
   "metadata": {},
   "outputs": [],
   "source": [
    "outputs = sess_post.run(\n",
    "    None,\n",
    "    {\n",
    "        sess_post.get_inputs()[0].name: sample,\n",
    "    }\n",
    ")\n",
    "sample = outputs[0]"
   ]
  },
  {
   "cell_type": "code",
   "execution_count": 16,
   "metadata": {},
   "outputs": [
    {
     "data": {
      "text/plain": [
       "(2, 4, 64, 64)"
      ]
     },
     "execution_count": 16,
     "metadata": {},
     "output_type": "execute_result"
    }
   ],
   "source": [
    "sample.shape"
   ]
  }
 ],
 "metadata": {
  "kernelspec": {
   "display_name": "base",
   "language": "python",
   "name": "python3"
  },
  "language_info": {
   "codemirror_mode": {
    "name": "ipython",
    "version": 3
   },
   "file_extension": ".py",
   "mimetype": "text/x-python",
   "name": "python",
   "nbconvert_exporter": "python",
   "pygments_lexer": "ipython3",
   "version": "3.10.13"
  }
 },
 "nbformat": 4,
 "nbformat_minor": 2
}
