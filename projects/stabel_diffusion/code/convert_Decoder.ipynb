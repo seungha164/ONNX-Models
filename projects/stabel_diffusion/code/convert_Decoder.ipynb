{
 "cells": [
  {
   "cell_type": "code",
   "execution_count": 1,
   "metadata": {},
   "outputs": [
    {
     "name": "stderr",
     "output_type": "stream",
     "text": [
      "/opt/conda/lib/python3.10/site-packages/tqdm/auto.py:21: TqdmWarning: IProgress not found. Please update jupyter and ipywidgets. See https://ipywidgets.readthedocs.io/en/stable/user_install.html\n",
      "  from .autonotebook import tqdm as notebook_tqdm\n"
     ]
    },
    {
     "data": {
      "text/plain": [
       "0"
      ]
     },
     "execution_count": 1,
     "metadata": {},
     "output_type": "execute_result"
    }
   ],
   "source": [
    "import torch\n",
    "import torch.nn as nn\n",
    "from diffusers.schedulers import PNDMScheduler\n",
    "from pathlib import Path\n",
    "from diffusers import DiffusionPipeline\n",
    "from util import onnx_export\n",
    "import numpy as np\n",
    "from onnxruntime.quantization.quantize import quantize_dynamic\n",
    "from onnxruntime.quantization import QuantType\n",
    "import gc\n",
    "gc.collect()"
   ]
  },
  {
   "cell_type": "code",
   "execution_count": 2,
   "metadata": {},
   "outputs": [],
   "source": [
    "device = \"cpu\"\n",
    "dtype = torch.float32\n",
    "\n",
    "pipeline = DiffusionPipeline.from_pretrained(\"runwayml/stable-diffusion-v1-5\", torch_dtype=torch.float32)"
   ]
  },
  {
   "cell_type": "markdown",
   "metadata": {},
   "source": [
    "---"
   ]
  },
  {
   "cell_type": "markdown",
   "metadata": {},
   "source": [
    "## Decoder"
   ]
  },
  {
   "cell_type": "code",
   "execution_count": 4,
   "metadata": {},
   "outputs": [],
   "source": [
    "class Decoder(nn.Module):\n",
    "    def __init__(self, vae_decoder, device='cpu'):\n",
    "        super().__init__()\n",
    "        self.vae_decoder = vae_decoder\n",
    "        self.vae_decoder = vae_decoder.to(device = device)\n",
    "        self.device = device\n",
    "  \n",
    "    \n",
    "    def denormalize(self, images):\n",
    "        \"\"\"\n",
    "        Denormalize an image array to [0,1].\n",
    "        \"\"\"\n",
    "        return (images / 2 + 0.5).clamp(0, 1)   \n",
    "\n",
    "    def forward(self, latent_sample):\n",
    "        # 0. preprocessing\n",
    "        latent_sample = latent_sample / 0.18215 \n",
    "        # 1. run\n",
    "        image = self.vae_decoder(latent_sample)['sample']       # [1, 3, 512, 512]\n",
    "        \n",
    "        # 2. postprocessing\n",
    "        image = self.denormalize(image).permute(0, 2, 3, 1)\n",
    "        #image = self.pt_to_numpy(image)\n",
    "         \n",
    "        return image #self.numpy_to_pil(image)"
   ]
  },
  {
   "cell_type": "code",
   "execution_count": 5,
   "metadata": {},
   "outputs": [
    {
     "name": "stdout",
     "output_type": "stream",
     "text": [
      "ONNX export Start🚗\n"
     ]
    },
    {
     "name": "stderr",
     "output_type": "stream",
     "text": [
      "/opt/conda/lib/python3.10/site-packages/torch/onnx/_internal/jit_utils.py:258: UserWarning: The shape inference of prim::Constant type is missing, so it may result in wrong shape inference for the exported graph. Please consider adding it in symbolic function. (Triggered internally at ../torch/csrc/jit/passes/onnx/shape_type_inference.cpp:1884.)\n",
      "  _C._jit_pass_onnx_node_shape_type_inference(node, params_dict, opset_version)\n",
      "/opt/conda/lib/python3.10/site-packages/torch/onnx/utils.py:687: UserWarning: The shape inference of prim::Constant type is missing, so it may result in wrong shape inference for the exported graph. Please consider adding it in symbolic function. (Triggered internally at ../torch/csrc/jit/passes/onnx/shape_type_inference.cpp:1884.)\n",
      "  _C._jit_pass_onnx_graph_shape_type_inference(\n",
      "/opt/conda/lib/python3.10/site-packages/torch/onnx/utils.py:1178: UserWarning: The shape inference of prim::Constant type is missing, so it may result in wrong shape inference for the exported graph. Please consider adding it in symbolic function. (Triggered internally at ../torch/csrc/jit/passes/onnx/shape_type_inference.cpp:1884.)\n",
      "  _C._jit_pass_onnx_graph_shape_type_inference(\n",
      "WARNING:root:Please consider to run pre-processing before quantization. Refer to example: https://github.com/microsoft/onnxruntime-inference-examples/blob/main/quantization/image_classification/cpu/ReadMe.md \n"
     ]
    },
    {
     "name": "stdout",
     "output_type": "stream",
     "text": [
      "ONNX export Finish🍷\n"
     ]
    }
   ],
   "source": [
    "vae_decoder = pipeline.vae\n",
    "vae_decoder.forward = pipeline.vae.decode\n",
    "decoder = Decoder(vae_decoder, device)\n",
    "\n",
    "# decoder(torch.randn(1, 4, 64, 64).to(device=device, dtype=dtype))\n",
    "onnx_export(\n",
    "    decoder,\n",
    "    model_args=(\n",
    "        torch.randn(1, 4, 64, 64).to(device=device, dtype=dtype)\n",
    "    ),\n",
    "    output_path = Path('../onnx-models/Decoder.onnx'),\n",
    "    ordered_input_names = [\"latent_sample\"],   # 입력값 : latent_sample\n",
    "    output_names = [\"output\"],\n",
    "    dynamic_axes = {\n",
    "            \"latent_sample\": {0: \"batch\", 1: \"channels\", 2: \"height\", 3: \"width\"},\n",
    "        },\n",
    "    opset=14,\n",
    ")\n",
    "quantize_dynamic(\n",
    "    model_input = f'../onnx-models/Decoder.onnx',\n",
    "    model_output=f'../onnx-models/Decoder-quant.onnx',\n",
    "    per_channel=False,\n",
    "    reduce_range=False,\n",
    "    weight_type=QuantType.QUInt8,\n",
    ")"
   ]
  }
 ],
 "metadata": {
  "kernelspec": {
   "display_name": "base",
   "language": "python",
   "name": "python3"
  },
  "language_info": {
   "codemirror_mode": {
    "name": "ipython",
    "version": 3
   },
   "file_extension": ".py",
   "mimetype": "text/x-python",
   "name": "python",
   "nbconvert_exporter": "python",
   "pygments_lexer": "ipython3",
   "version": "3.10.13"
  }
 },
 "nbformat": 4,
 "nbformat_minor": 2
}
