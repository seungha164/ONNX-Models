{
 "cells": [
  {
   "cell_type": "code",
   "execution_count": 6,
   "metadata": {},
   "outputs": [
    {
     "data": {
      "text/plain": [
       "0"
      ]
     },
     "execution_count": 6,
     "metadata": {},
     "output_type": "execute_result"
    }
   ],
   "source": [
    "import torch\n",
    "import torch.nn as nn\n",
    "from diffusers.schedulers import PNDMScheduler\n",
    "from pathlib import Path\n",
    "from diffusers import DiffusionPipeline\n",
    "from util import onnx_export\n",
    "import numpy as np\n",
    "\n",
    "import gc\n",
    "gc.collect()"
   ]
  },
  {
   "cell_type": "code",
   "execution_count": 7,
   "metadata": {},
   "outputs": [],
   "source": [
    "device = \"cpu\"\n",
    "dtype = torch.float32\n",
    "\n",
    "pipeline = DiffusionPipeline.from_pretrained(\"runwayml/stable-diffusion-v1-5\", torch_dtype=torch.float32)"
   ]
  },
  {
   "cell_type": "markdown",
   "metadata": {},
   "source": [
    "---"
   ]
  },
  {
   "cell_type": "markdown",
   "metadata": {},
   "source": [
    "## Decoder"
   ]
  },
  {
   "cell_type": "code",
   "execution_count": 20,
   "metadata": {},
   "outputs": [],
   "source": [
    "from PIL import Image\n",
    "\n",
    "class Decoder(nn.Module):\n",
    "    def __init__(self, vae_decoder, device='cpu'):\n",
    "        super().__init__()\n",
    "        self.vae_decoder = vae_decoder\n",
    "        self.vae_decoder = vae_decoder.to(device = device)\n",
    "        self.device = device\n",
    "  \n",
    "    \n",
    "    def denormalize(self, images):\n",
    "        \"\"\"\n",
    "        Denormalize an image array to [0,1].\n",
    "        \"\"\"\n",
    "        return (images / 2 + 0.5).clamp(0, 1)   \n",
    "\n",
    "    \n",
    "    def pt_to_numpy(self, images: torch.FloatTensor) -> np.ndarray:\n",
    "        \"\"\"\n",
    "        Convert a PyTorch tensor to a NumPy image.\n",
    "        \"\"\"\n",
    "        images = images.permute(0, 2, 3, 1).float().cpu().detach().numpy()\n",
    "        return images\n",
    "    \n",
    "    \n",
    "    def numpy_to_pil(self, images: np.ndarray) -> Image.Image:\n",
    "        \"\"\"\n",
    "        Convert a numpy image or a batch of images to a PIL image.\n",
    "        \"\"\"\n",
    "        if images.ndim == 3:\n",
    "            images = images[None, ...]\n",
    "        images = (images * 255).round().astype(\"uint8\")\n",
    "        if images.shape[-1] == 1:\n",
    "            # special case for grayscale (single channel) images\n",
    "            pil_images = [Image.fromarray(image.squeeze(), mode=\"L\") for image in images]\n",
    "        else:\n",
    "            pil_images = [Image.fromarray(image) for image in images]\n",
    "\n",
    "        return pil_images\n",
    "    \n",
    "    def forward(self, latent_sample):\n",
    "        # 0. preprocessing\n",
    "        latent_sample = latent_sample / 0.18215 \n",
    "        # 1. run\n",
    "        image = self.vae_decoder(latent_sample)['sample']       # [1, 3, 512, 512]\n",
    "        \n",
    "        # 2. postprocessing\n",
    "        image = self.denormalize(image).permute(0, 2, 3, 1)\n",
    "        #image = self.pt_to_numpy(image)\n",
    "         \n",
    "        return image #self.numpy_to_pil(image)"
   ]
  },
  {
   "cell_type": "code",
   "execution_count": 21,
   "metadata": {},
   "outputs": [
    {
     "name": "stdout",
     "output_type": "stream",
     "text": [
      "ONNX export Start🚗\n",
      "ONNX export Finish🍷\n"
     ]
    }
   ],
   "source": [
    "vae_decoder = pipeline.vae\n",
    "vae_decoder.forward = pipeline.vae.decode\n",
    "decoder = Decoder(vae_decoder, device)\n",
    "\n",
    "# decoder(torch.randn(1, 4, 64, 64).to(device=device, dtype=dtype))\n",
    "onnx_export(\n",
    "    decoder,\n",
    "    model_args=(\n",
    "        torch.randn(1, 4, 64, 64).to(device=device, dtype=dtype)\n",
    "    ),\n",
    "    output_path = Path('../onnx-models/Decoder.onnx'),\n",
    "    ordered_input_names = [\"latent_sample\"],   # 입력값 : latent_sample\n",
    "    output_names = [\"output\"],\n",
    "    dynamic_axes = {\n",
    "            \"latent_sample\": {0: \"batch\", 1: \"channels\", 2: \"height\", 3: \"width\"},\n",
    "        },\n",
    "    opset=14,\n",
    ")"
   ]
  }
 ],
 "metadata": {
  "kernelspec": {
   "display_name": "base",
   "language": "python",
   "name": "python3"
  },
  "language_info": {
   "codemirror_mode": {
    "name": "ipython",
    "version": 3
   },
   "file_extension": ".py",
   "mimetype": "text/x-python",
   "name": "python",
   "nbconvert_exporter": "python",
   "pygments_lexer": "ipython3",
   "version": "3.10.13"
  }
 },
 "nbformat": 4,
 "nbformat_minor": 2
}
