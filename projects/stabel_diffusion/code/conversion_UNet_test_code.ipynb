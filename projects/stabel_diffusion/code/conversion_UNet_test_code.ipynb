{
 "cells": [
  {
   "cell_type": "code",
   "execution_count": 1,
   "metadata": {},
   "outputs": [
    {
     "name": "stderr",
     "output_type": "stream",
     "text": [
      "/opt/conda/lib/python3.10/site-packages/tqdm/auto.py:21: TqdmWarning: IProgress not found. Please update jupyter and ipywidgets. See https://ipywidgets.readthedocs.io/en/stable/user_install.html\n",
      "  from .autonotebook import tqdm as notebook_tqdm\n"
     ]
    },
    {
     "data": {
      "text/plain": [
       "0"
      ]
     },
     "execution_count": 1,
     "metadata": {},
     "output_type": "execute_result"
    }
   ],
   "source": [
    "import torch\n",
    "import torch.nn as nn\n",
    "from diffusers.schedulers import PNDMScheduler\n",
    "from pathlib import Path\n",
    "from diffusers import DiffusionPipeline\n",
    "from util import onnx_export\n",
    "from onnxruntime.quantization.quantize import quantize_dynamic\n",
    "from onnxruntime.quantization import QuantType\n",
    "import onnx \n",
    "\n",
    "import gc\n",
    "gc.collect()"
   ]
  },
  {
   "cell_type": "code",
   "execution_count": 5,
   "metadata": {},
   "outputs": [],
   "source": [
    "device = \"cpu\"\n",
    "dtype = torch.float32\n",
    "\n",
    "pipeline = DiffusionPipeline.from_pretrained(\"runwayml/stable-diffusion-v1-5\", torch_dtype=torch.float32)"
   ]
  },
  {
   "cell_type": "markdown",
   "metadata": {},
   "source": [
    "(before)\n",
    "\n",
    "- 3.3G    weights.pb\n",
    "- 1.9M    model.onnx\n",
    "\n",
    "(after)\n",
    "\n",
    "- 824M    model-quant.onnx"
   ]
  },
  {
   "cell_type": "code",
   "execution_count": 6,
   "metadata": {},
   "outputs": [
    {
     "data": {
      "text/plain": [
       "torch.Size([2])"
      ]
     },
     "execution_count": 6,
     "metadata": {},
     "output_type": "execute_result"
    }
   ],
   "source": [
    "torch.tensor([981, 981]).to(dtype=dtype, device=device).shape"
   ]
  },
  {
   "cell_type": "code",
   "execution_count": 7,
   "metadata": {},
   "outputs": [
    {
     "name": "stdout",
     "output_type": "stream",
     "text": [
      "ONNX export Start🚗\n"
     ]
    },
    {
     "name": "stderr",
     "output_type": "stream",
     "text": [
      "/opt/conda/lib/python3.10/site-packages/torch/onnx/_internal/jit_utils.py:258: UserWarning: The shape inference of prim::Constant type is missing, so it may result in wrong shape inference for the exported graph. Please consider adding it in symbolic function. (Triggered internally at ../torch/csrc/jit/passes/onnx/shape_type_inference.cpp:1884.)\n",
      "  _C._jit_pass_onnx_node_shape_type_inference(node, params_dict, opset_version)\n",
      "/opt/conda/lib/python3.10/site-packages/torch/onnx/utils.py:687: UserWarning: The shape inference of prim::Constant type is missing, so it may result in wrong shape inference for the exported graph. Please consider adding it in symbolic function. (Triggered internally at ../torch/csrc/jit/passes/onnx/shape_type_inference.cpp:1884.)\n",
      "  _C._jit_pass_onnx_graph_shape_type_inference(\n",
      "/opt/conda/lib/python3.10/site-packages/torch/onnx/utils.py:1178: UserWarning: The shape inference of prim::Constant type is missing, so it may result in wrong shape inference for the exported graph. Please consider adding it in symbolic function. (Triggered internally at ../torch/csrc/jit/passes/onnx/shape_type_inference.cpp:1884.)\n",
      "  _C._jit_pass_onnx_graph_shape_type_inference(\n"
     ]
    },
    {
     "name": "stdout",
     "output_type": "stream",
     "text": [
      "ONNX export Finish🍷\n"
     ]
    }
   ],
   "source": [
    "class UnetModelCustom(nn.Module):\n",
    "    def __init__(self, unet):\n",
    "        super().__init__()\n",
    "        self.unet = unet\n",
    " \n",
    "    def forward(self, timestep):\n",
    "        # dummy = dummy * 1.0\n",
    "        # timestep = torch.tensor([981]).to(dtype=dtype, device=device)\n",
    "        sample = torch.randn(2, 4, 64, 64).to(device=device, dtype=dtype)\n",
    "        encoder_hidden_states = torch.randn(2, 77, 768).to(device=device, dtype=dtype)\n",
    "        \n",
    "        return self.unet(sample, timestep, encoder_hidden_states)\n",
    "        #latents = torch.cat([latents] * 2).to(prompt_embeds.device)       # [2, 4, 64, 64]\n",
    "        # predict the noise residual\n",
    "        \n",
    "        # # perform guidance \n",
    "        # noise_pred_uncond, noise_pred_text = noise_pred.chunk(2)\n",
    "        # noise_pred = noise_pred_uncond + 7.5 * (noise_pred_text - noise_pred_uncond)\n",
    "\n",
    "        # return noise_pred\n",
    "onnx_export(\n",
    "        UnetModelCustom(pipeline.unet),\n",
    "        model_args=(\n",
    "            torch.randn(2).to(device=device, dtype=dtype)\n",
    "            # torch.randn(2).to(device=device, dtype=dtype),\n",
    "        ),\n",
    "        output_path = Path('../onnx-models/UNet-raw-dummy/model.onnx'),\n",
    "        ordered_input_names=[\"timestep\"],\n",
    "        output_names=[\"out_sample\"],  # has to be different from \"sample\" for correct tracing\n",
    "        dynamic_axes={\n",
    "            \"timestep\": {0: \"batch\"}\n",
    "            # \"sample\": {0: \"batch\", 1: \"channels\", 2: \"height\", 3: \"width\"},\n",
    "            # \"timestep\": {0: \"batch\"},\n",
    "            # \"encoder_hidden_states\": {0: \"batch\", 1: \"sequence\"},\n",
    "        },\n",
    "        opset=14,\n",
    "        use_external_data_format=True,  # UNet is > 2GB, so the weights need to be split\n",
    "    )\n"
   ]
  },
  {
   "cell_type": "code",
   "execution_count": 8,
   "metadata": {},
   "outputs": [],
   "source": [
    "import shutil, os\n",
    "\n",
    "unet_model_path = str(Path('../onnx-models/UNet-raw-dummy/model.onnx').absolute().as_posix())\n",
    "unet_dir = os.path.dirname(unet_model_path)\n",
    "unet = onnx.load(unet_model_path)\n",
    "# clean up existing tensor files\n",
    "shutil.rmtree(unet_dir)\n",
    "os.mkdir(unet_dir)\n",
    "# collate external tensor files into one\n",
    "onnx.save_model(\n",
    "    unet,\n",
    "    unet_model_path,\n",
    "    save_as_external_data=True,\n",
    "    all_tensors_to_one_file=True,\n",
    "    location=\"weights.pb\",\n",
    "    convert_attribute=False,\n",
    ")"
   ]
  },
  {
   "cell_type": "code",
   "execution_count": 10,
   "metadata": {},
   "outputs": [
    {
     "name": "stderr",
     "output_type": "stream",
     "text": [
      "WARNING:root:Please consider to run pre-processing before quantization. Refer to example: https://github.com/microsoft/onnxruntime-inference-examples/blob/main/quantization/image_classification/cpu/ReadMe.md \n"
     ]
    }
   ],
   "source": [
    "quantize_dynamic(\n",
    "        model_input = f'../onnx-models/UNet-raw-dummy/model.onnx',\n",
    "        model_output=f'../onnx-models//UNet-raw-dummy-quant.onnx',\n",
    "        per_channel=False,\n",
    "        reduce_range=False,\n",
    "        weight_type=QuantType.QUInt8,\n",
    ")"
   ]
  },
  {
   "cell_type": "code",
   "execution_count": 11,
   "metadata": {},
   "outputs": [
    {
     "data": {
      "text/plain": [
       "['timestep']"
      ]
     },
     "execution_count": 11,
     "metadata": {},
     "output_type": "execute_result"
    }
   ],
   "source": [
    "import onnxruntime\n",
    "import numpy as np\n",
    "\n",
    "unetSession = onnxruntime.InferenceSession(f'../onnx-models/UNet-raw-dummy-quant.onnx', providers=['AzureExecutionProvider'])\n",
    "[i.name for i in unetSession.get_inputs()]"
   ]
  },
  {
   "cell_type": "code",
   "execution_count": 19,
   "metadata": {},
   "outputs": [],
   "source": [
    "# 테스트 실행\n",
    "ort_inputs  = {\n",
    "    'sample': np.array(torch.randn(2, 4, 64, 64).to(device=device, dtype=dtype)),\n",
    "    #'timestep': np.array(torch.randn(1).to(device=device, dtype=dtype)),\n",
    "    'encoder_hidden_states': np.array(torch.randn(2, 77, 768).to(device=device, dtype=dtype))\n",
    "}\n",
    "#print(ort_inputs)\n",
    "ort_outputs = unetSession.run(None, ort_inputs)"
   ]
  },
  {
   "cell_type": "code",
   "execution_count": 15,
   "metadata": {},
   "outputs": [
    {
     "data": {
      "text/plain": [
       "(2, 4, 64, 64)"
      ]
     },
     "execution_count": 15,
     "metadata": {},
     "output_type": "execute_result"
    }
   ],
   "source": [
    "ort_outputs[0].shape"
   ]
  },
  {
   "cell_type": "code",
   "execution_count": 21,
   "metadata": {},
   "outputs": [
    {
     "data": {
      "text/plain": [
       "array([0.16983595], dtype=float32)"
      ]
     },
     "execution_count": 21,
     "metadata": {},
     "output_type": "execute_result"
    }
   ],
   "source": [
    "np.array(torch.randn(1).to(device=device, dtype=dtype))"
   ]
  },
  {
   "cell_type": "markdown",
   "metadata": {},
   "source": [
    "---\n",
    "### Raw한 Unet 모델의 후처리를 위한, 모듈 추가"
   ]
  },
  {
   "cell_type": "code",
   "execution_count": 30,
   "metadata": {},
   "outputs": [
    {
     "name": "stderr",
     "output_type": "stream",
     "text": [
      "WARNING:root:Please consider to run pre-processing before quantization. Refer to example: https://github.com/microsoft/onnxruntime-inference-examples/blob/main/quantization/image_classification/cpu/ReadMe.md \n"
     ]
    },
    {
     "name": "stdout",
     "output_type": "stream",
     "text": [
      "ONNX export Start🚗\n",
      "ONNX export Finish🍷\n"
     ]
    }
   ],
   "source": [
    "class UnetModel_post(nn.Module):\n",
    "    def __init__(self):\n",
    "        super().__init__()\n",
    " \n",
    "    def forward(self, noise_pred):\n",
    "        #latents = torch.cat([latents] * 2).to(prompt_embeds.device)       # [2, 4, 64, 64]\n",
    "        # predict the noise residual\n",
    "        \n",
    "        # # perform guidance \n",
    "        noise_pred_uncond, noise_pred_text = noise_pred.chunk(2)\n",
    "        noise_pred = noise_pred_uncond + 7.5 * (noise_pred_text - noise_pred_uncond)\n",
    "\n",
    "        return noise_pred\n",
    "\n",
    "onnx_export(\n",
    "    UnetModel_post(),\n",
    "    model_args=(\n",
    "        torch.randn([2,4,64,64]).to(device=device, dtype=dtype)\n",
    "    ),\n",
    "    output_path = Path('../onnx-models/UNet_post/model.onnx'),\n",
    "    ordered_input_names=[\"noise_pred\"],\n",
    "    output_names=[\"noise_pred_out\"],  # has to be different from \"sample\" for correct tracing\n",
    "    dynamic_axes={ \n",
    "        \"noise_pred\": {0: \"batch\"}\n",
    "    },\n",
    "    opset=12,\n",
    "    use_external_data_format=True,  # UNet is > 2GB, so the weights need to be split\n",
    ")\n",
    "\n",
    "quantize_dynamic(\n",
    "        model_input = f'/root/ONNX-Models/projects/stabel_diffusion/onnx-models/UNet_post/model.onnx',\n",
    "        model_output=f'/root/ONNX-Models/projects/stabel_diffusion/onnx-models/UNet_post/model-quant.onnx',\n",
    "        per_channel=False,\n",
    "        reduce_range=False,\n",
    "        weight_type=QuantType.QUInt8,\n",
    "    )"
   ]
  }
 ],
 "metadata": {
  "kernelspec": {
   "display_name": "base",
   "language": "python",
   "name": "python3"
  },
  "language_info": {
   "codemirror_mode": {
    "name": "ipython",
    "version": 3
   },
   "file_extension": ".py",
   "mimetype": "text/x-python",
   "name": "python",
   "nbconvert_exporter": "python",
   "pygments_lexer": "ipython3",
   "version": "3.10.13"
  }
 },
 "nbformat": 4,
 "nbformat_minor": 2
}
